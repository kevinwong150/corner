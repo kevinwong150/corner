{
 "cells": [
  {
   "cell_type": "code",
   "execution_count": 2,
   "metadata": {},
   "outputs": [],
   "source": [
    "# https://corner-stats.com/index.php?route=module/getmatches/getTeamsAjax&event_type=corners"
   ]
  },
  {
   "cell_type": "code",
   "execution_count": 47,
   "metadata": {},
   "outputs": [],
   "source": [
    "from urllib import request, parse\n",
    "import numpy as np\n",
    "import requests\n",
    "import json\n",
    "import itertools\n",
    "from bs4 import BeautifulSoup"
   ]
  },
  {
   "cell_type": "code",
   "execution_count": 48,
   "metadata": {},
   "outputs": [
    {
     "ename": "FileNotFoundError",
     "evalue": "[Errno 2] No such file or directory: '1920_team_id.csv'",
     "output_type": "error",
     "traceback": [
      "\u001b[0;31m---------------------------------------------------------------------------\u001b[0m",
      "\u001b[0;31mFileNotFoundError\u001b[0m                         Traceback (most recent call last)",
      "\u001b[0;32m<ipython-input-48-611d96d1d448>\u001b[0m in \u001b[0;36m<module>\u001b[0;34m\u001b[0m\n\u001b[1;32m      1\u001b[0m \u001b[0mteams_dict\u001b[0m \u001b[0;34m=\u001b[0m \u001b[0;34m{\u001b[0m\u001b[0;34m}\u001b[0m\u001b[0;34m\u001b[0m\u001b[0m\n\u001b[1;32m      2\u001b[0m \u001b[0;34m\u001b[0m\u001b[0m\n\u001b[0;32m----> 3\u001b[0;31m \u001b[0;32mwith\u001b[0m \u001b[0mopen\u001b[0m\u001b[0;34m(\u001b[0m\u001b[0;34m'1920_team_id.csv'\u001b[0m\u001b[0;34m)\u001b[0m \u001b[0;32mas\u001b[0m \u001b[0mcsvfile\u001b[0m\u001b[0;34m:\u001b[0m\u001b[0;34m\u001b[0m\u001b[0m\n\u001b[0m\u001b[1;32m      4\u001b[0m     \u001b[0mteams\u001b[0m \u001b[0;34m=\u001b[0m \u001b[0mcsv\u001b[0m\u001b[0;34m.\u001b[0m\u001b[0mDictReader\u001b[0m\u001b[0;34m(\u001b[0m\u001b[0mcsvfile\u001b[0m\u001b[0;34m)\u001b[0m\u001b[0;34m\u001b[0m\u001b[0m\n\u001b[1;32m      5\u001b[0m     \u001b[0;32mfor\u001b[0m \u001b[0mteam\u001b[0m \u001b[0;32min\u001b[0m \u001b[0mteams\u001b[0m\u001b[0;34m:\u001b[0m\u001b[0;34m\u001b[0m\u001b[0m\n",
      "\u001b[0;31mFileNotFoundError\u001b[0m: [Errno 2] No such file or directory: '1920_team_id.csv'"
     ]
    }
   ],
   "source": [
    "teams_dict = {}\n",
    "\n",
    "with open('1920_team_id.csv') as csvfile:\n",
    "    teams = csv.DictReader(csvfile)\n",
    "    for team in teams:\n",
    "        print(row['name'])"
   ]
  },
  {
   "cell_type": "code",
   "execution_count": 27,
   "metadata": {},
   "outputs": [],
   "source": [
    "with requests.Session() as s:\n",
    "    url = \"https://corner-stats.com/index.php?route=module/getmatches/getTeamsAjax&event_type=corners\"\n",
    "    \n",
    "    headers = {\n",
    "        \"Accept\": \"application/json, text/javascript, */*; q=0.01\",\n",
    "        \"Accept-Encoding\": \"gzip, deflate, br\",\n",
    "        \"Accept-Language\": \"zh-TW,zh;q=0.9,en-US;q=0.8,en;q=0.7\",\n",
    "        \"Connection\": \"keep-alive\",\n",
    "        \"Content-Type\": \"application/x-www-form-urlencoded; charset=UTF-8\",\n",
    "        \"Cookie\": \"mysessionname=0971v8l2pp0c7opo7ffjq223k1; _ga=GA1.2.571054001.1565702820; __zlcmid=tliSVTIv8Nthfj; language=en; free_access=2; token=327482f52f26b36632b312d347856527; currency=EUR; _gid=GA1.2.1871471604.1579098783\",\n",
    "        \"Host\": \"corner-stats.com\",\n",
    "        \"Origin\": \"https://corner-stats.com\",\n",
    "        \"Referer\": \"https://corner-stats.com/liverpool/england/team/18\",\n",
    "        \"Sec-Fetch-Mode\": \"cors\",\n",
    "        \"Sec-Fetch-Site\": \"same-origin\",\n",
    "        \"X-Requested-With\": \"XMLHttpRequest\",\n",
    "        \"User-Agent\": \"Mozilla/5.0 (X11; Linux x86_64) AppleWebKit/537.36 (KHTML, like Gecko) Chrome/76.0.3809.132 Safari/537.36\",\n",
    "    }\n"
   ]
  },
  {
   "cell_type": "code",
   "execution_count": 41,
   "metadata": {},
   "outputs": [],
   "source": [
    "    teams_dict = {}\n",
    "    \n",
    "    home_team_id = str(18)\n",
    "    \n",
    "    away_team_id = str(1718)\n",
    "    \n",
    "    parameter = 'a:4:{s:8:\"table_id\";s:22:\"table_corners_personal\";s:11:\"filter_team\";s:' + str(len(home_team_id)) + ':\"' + home_team_id + '\";s:15:\"filter_opponent\";s:' + str(len(away_team_id)) + ':\"' + away_team_id + '\";s:10:\"is_filters\";i:1;}'\n",
    "    \n",
    "    data = {\n",
    "    'tour[]': 1,\n",
    "    'seasons[]': [24, 40],\n",
    "    'm_type[]': [1, 2],\n",
    "    'show': 60,\n",
    "    'team_id': 18,\n",
    "    'parameter': parameter,\n",
    "    'event_type': 'filter',\n",
    "    'event_value': 0\n",
    "    }\n",
    "\n",
    "        \n",
    "    req = s.post(url, headers=headers, data=data)  "
   ]
  },
  {
   "cell_type": "code",
   "execution_count": 45,
   "metadata": {
    "collapsed": true
   },
   "outputs": [
    {
     "data": {
      "text/plain": [
       "{'corners': {'count': 2,\n",
       "  'diff_avg': '+1.5',\n",
       "  'difference': '13 - 10',\n",
       "  'draw': 0,\n",
       "  'lost': 1,\n",
       "  'points': 3,\n",
       "  'sum_1': 6.5,\n",
       "  'sum_2': 5,\n",
       "  'sum_all': 11.5,\n",
       "  'total': 23,\n",
       "  'win': 1},\n",
       " 'goals': {'count': 2,\n",
       "  'diff_avg': '+1.5',\n",
       "  'difference': '3 - 0',\n",
       "  'draw': 0,\n",
       "  'lost': 0,\n",
       "  'points': 6,\n",
       "  'sum_1': 1.5,\n",
       "  'sum_2': 0,\n",
       "  'sum_all': 1.5,\n",
       "  'total': 3,\n",
       "  'win': 2},\n",
       " 'handicap': {'count': 0,\n",
       "  'diff': '0 - 0',\n",
       "  'diff_av': 0,\n",
       "  'draw': 0,\n",
       "  'hand_av': 0,\n",
       "  'lost': 0,\n",
       "  'points': 0,\n",
       "  'win': 0},\n",
       " 'other': {'count': 2,\n",
       "  'diff_avg': 0,\n",
       "  'difference': '0 - 0',\n",
       "  'draw': 0,\n",
       "  'lost': 0,\n",
       "  'points': 0,\n",
       "  'sum_1': 0,\n",
       "  'sum_2': 0,\n",
       "  'sum_all': 0,\n",
       "  'total': 0,\n",
       "  'win': 0},\n",
       " 'red': {'count': 2,\n",
       "  'diff_avg': 0,\n",
       "  'difference': '0 - 0',\n",
       "  'sum_1': 0,\n",
       "  'sum_2': 0,\n",
       "  'sum_all': 0,\n",
       "  'total': 0},\n",
       " 't_10_25': '10.00',\n",
       " 't_1_2': '1.00',\n",
       " 't_2_5': '2.00',\n",
       " 'yellow': {'count': 2,\n",
       "  'diff_avg': 0,\n",
       "  'difference': '1 - 1',\n",
       "  'sum_1': 0.5,\n",
       "  'sum_2': 0.5,\n",
       "  'sum_all': 1,\n",
       "  'total': 2}}"
      ]
     },
     "execution_count": 45,
     "metadata": {},
     "output_type": "execute_result"
    }
   ],
   "source": [
    "    matches = req.json()\n",
    "\n",
    "    matches.pop('statistics', None)"
   ]
  },
  {
   "cell_type": "code",
   "execution_count": 44,
   "metadata": {},
   "outputs": [
    {
     "name": "stdout",
     "output_type": "stream",
     "text": [
      "{\n",
      "    \"0\": {\n",
      "        \"corner_count\": \"12\",\n",
      "        \"date_start\": \"02/01/20\",\n",
      "        \"date_start_timestamp\": 1577995200000,\n",
      "        \"first_goal\": 1,\n",
      "        \"fora1\": \"-1.5\",\n",
      "        \"ft\": \"#8BBA8B\",\n",
      "        \"game_href\": \"/liverpool-sheff-utd-02-01-2020/premier-league-england/match/287476\",\n",
      "        \"game_id\": \"287476\",\n",
      "        \"game_id_2\": \"1718\",\n",
      "        \"int_seconds\": -1,\n",
      "        \"odds_1\": \"1.30\",\n",
      "        \"odds_2\": \"12.41\",\n",
      "        \"odds_x\": \"5.53\",\n",
      "        \"other_t1\": \"\",\n",
      "        \"other_t2\": \"\",\n",
      "        \"penalty\": \"0\",\n",
      "        \"referee_href\": \"/paul-tierney/england/referee/24\",\n",
      "        \"referee_name\": \"P. Tierney\",\n",
      "        \"round_name\": \"21\",\n",
      "        \"team\": \"2\",\n",
      "        \"team_1_corners_quantity\": \"8\",\n",
      "        \"team_1_goals_1_half\": \"1\",\n",
      "        \"team_1_goals_quantity\": \"2\",\n",
      "        \"team_1_href\": \"/liverpool/england/team/18\",\n",
      "        \"team_1_id\": \"18\",\n",
      "        \"team_1_red_cards\": \"0\",\n",
      "        \"team_1_tournament_row\": \"Premier League, England\",\n",
      "        \"team_1_yellow_cards\": \"0\",\n",
      "        \"team_2_corners_quantity\": \"4\",\n",
      "        \"team_2_goals_1_half\": \"0\",\n",
      "        \"team_2_goals_quantity\": \"0\",\n",
      "        \"team_2_href\": \"/sheff-utd/england/team/1718\",\n",
      "        \"team_2_red_cards\": \"0\",\n",
      "        \"team_2_tournament_row\": \"League One, England\",\n",
      "        \"team_2_yellow_cards\": \"0\",\n",
      "        \"team_name1\": \"Liverpool\",\n",
      "        \"team_name2\": \"Sheff Utd\",\n",
      "        \"total_next_page\": 2,\n",
      "        \"tournament_href\": \"index.php?route=football/tournament&amp;tournament_id=1\",\n",
      "        \"tournament_href1\": \"/premier-league/england/tournament/1\",\n",
      "        \"tournament_name\": \"PremL\"\n",
      "    },\n",
      "    \"1\": {\n",
      "        \"corner_count\": \"11\",\n",
      "        \"date_start\": \"28/09/19\",\n",
      "        \"date_start_timestamp\": 1569670200000,\n",
      "        \"first_goal\": 1,\n",
      "        \"fora1\": \"1.25\",\n",
      "        \"ft\": \"#FFAA94\",\n",
      "        \"game_href\": \"/sheff-utd-liverpool-28-09-2019/premier-league-england/match/271937\",\n",
      "        \"game_id\": \"271937\",\n",
      "        \"game_id_2\": \"18\",\n",
      "        \"int_seconds\": -1,\n",
      "        \"odds_1\": \"9.44\",\n",
      "        \"odds_2\": \"1.34\",\n",
      "        \"odds_x\": \"5.53\",\n",
      "        \"other_t1\": \"\",\n",
      "        \"other_t2\": \"\",\n",
      "        \"penalty\": \"0\",\n",
      "        \"referee_href\": \"/anthony-taylor/england/referee/20\",\n",
      "        \"referee_name\": \"A. Taylor\",\n",
      "        \"round_name\": \"7\",\n",
      "        \"team\": \"1\",\n",
      "        \"team_1_corners_quantity\": \"6\",\n",
      "        \"team_1_goals_1_half\": \"0\",\n",
      "        \"team_1_goals_quantity\": \"0\",\n",
      "        \"team_1_href\": \"/sheff-utd/england/team/1718\",\n",
      "        \"team_1_id\": \"1718\",\n",
      "        \"team_1_red_cards\": \"0\",\n",
      "        \"team_1_tournament_row\": \"League One, England\",\n",
      "        \"team_1_yellow_cards\": \"1\",\n",
      "        \"team_2_corners_quantity\": \"5\",\n",
      "        \"team_2_goals_1_half\": \"0\",\n",
      "        \"team_2_goals_quantity\": \"1\",\n",
      "        \"team_2_href\": \"/liverpool/england/team/18\",\n",
      "        \"team_2_red_cards\": \"0\",\n",
      "        \"team_2_tournament_row\": \"Premier League, England\",\n",
      "        \"team_2_yellow_cards\": \"1\",\n",
      "        \"team_name1\": \"Sheff Utd\",\n",
      "        \"team_name2\": \"Liverpool\",\n",
      "        \"tournament_href\": \"index.php?route=football/tournament&amp;tournament_id=1\",\n",
      "        \"tournament_href1\": \"/premier-league/england/tournament/1\",\n",
      "        \"tournament_name\": \"PremL\"\n",
      "    }\n",
      "}\n"
     ]
    }
   ],
   "source": [
    "    # Load the JSON to a Python list & dump it back out as formatted JSON\n",
    "    format_matches = json.dumps(matches, indent=4, sort_keys=True)\n",
    "    print(format_matches)"
   ]
  }
 ],
 "metadata": {
  "kernelspec": {
   "display_name": "Python 3",
   "language": "python",
   "name": "python3"
  },
  "language_info": {
   "codemirror_mode": {
    "name": "ipython",
    "version": 3
   },
   "file_extension": ".py",
   "mimetype": "text/x-python",
   "name": "python",
   "nbconvert_exporter": "python",
   "pygments_lexer": "ipython3",
   "version": "3.5.2"
  }
 },
 "nbformat": 4,
 "nbformat_minor": 2
}
