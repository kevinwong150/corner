{
 "cells": [
  {
   "cell_type": "code",
   "execution_count": 29,
   "metadata": {},
   "outputs": [],
   "source": [
    "data <- read.csv('data/archive/season-1819.csv', header=TRUE)"
   ]
  },
  {
   "cell_type": "code",
   "execution_count": 30,
   "metadata": {
    "scrolled": true
   },
   "outputs": [
    {
     "name": "stdout",
     "output_type": "stream",
     "text": [
      "[1] \"list\"\n"
     ]
    }
   ],
   "source": [
    "print(typeof(data))"
   ]
  },
  {
   "cell_type": "code",
   "execution_count": 42,
   "metadata": {
    "scrolled": true
   },
   "outputs": [
    {
     "name": "stdout",
     "output_type": "stream",
     "text": [
      "[1] 62\n"
     ]
    }
   ],
   "source": [
    "print(length(data))"
   ]
  },
  {
   "cell_type": "code",
   "execution_count": 43,
   "metadata": {},
   "outputs": [
    {
     "name": "stdout",
     "output_type": "stream",
     "text": [
      " [1] Div        Date       HomeTeam   AwayTeam   FTHG       FTAG      \n",
      " [7] FTR        HTHG       HTAG       HTR        Referee    HS        \n",
      "[13] AS         HST        AST        HF         AF         HC        \n",
      "[19] AC         HY         AY         HR         AR         B365H     \n",
      "[25] B365D      B365A      BWH        BWD        BWA        IWH       \n",
      "[31] IWD        IWA        PSH        PSD        PSA        WHH       \n",
      "[37] WHD        WHA        VCH        VCD        VCA        Bb1X2     \n",
      "[43] BbMxH      BbAvH      BbMxD      BbAvD      BbMxA      BbAvA     \n",
      "[49] BbOU       BbMx.2.5   BbAv.2.5   BbMx.2.5.1 BbAv.2.5.1 BbAH      \n",
      "[55] BbAHh      BbMxAHH    BbAvAHH    BbMxAHA    BbAvAHA    PSCH      \n",
      "[61] PSCD       PSCA      \n",
      "<0 rows> (or 0-length row.names)\n"
     ]
    }
   ],
   "source": [
    "print(data[0,])"
   ]
  }
 ],
 "metadata": {
  "kernelspec": {
   "display_name": "R",
   "language": "R",
   "name": "ir"
  },
  "language_info": {
   "codemirror_mode": "r",
   "file_extension": ".r",
   "mimetype": "text/x-r-source",
   "name": "R",
   "pygments_lexer": "r",
   "version": "3.2.3"
  }
 },
 "nbformat": 4,
 "nbformat_minor": 2
}
