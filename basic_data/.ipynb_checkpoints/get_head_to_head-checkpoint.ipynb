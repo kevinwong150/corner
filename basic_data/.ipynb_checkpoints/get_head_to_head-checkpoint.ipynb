{
 "cells": [
  {
   "cell_type": "code",
   "execution_count": 2,
   "metadata": {},
   "outputs": [],
   "source": [
    "# https://corner-stats.com/index.php?route=module/getmatches/getTeamsAjax&event_type=corners"
   ]
  },
  {
   "cell_type": "code",
   "execution_count": 145,
   "metadata": {},
   "outputs": [],
   "source": [
    "from urllib import request, parse\n",
    "import numpy as np\n",
    "import requests\n",
    "import json\n",
    "import csv\n",
    "import itertools\n",
    "from bs4 import BeautifulSoup\n",
    "from functools import reduce"
   ]
  },
  {
   "cell_type": "code",
   "execution_count": 114,
   "metadata": {},
   "outputs": [
    {
     "name": "stdout",
     "output_type": "stream",
     "text": [
      "True\n",
      "False\n"
     ]
    }
   ],
   "source": [
    "a = 1\n",
    "b = 2\n",
    "print((a,b) == (1,2))\n",
    "print((a,b) == (2,1))"
   ]
  },
  {
   "cell_type": "code",
   "execution_count": 103,
   "metadata": {
    "scrolled": true
   },
   "outputs": [
    {
     "name": "stdout",
     "output_type": "stream",
     "text": [
      "{1: 'Chelsea', 2: 'Swansea', 3: 'West Brom', 4: 'Man City', 5: 'Man Utd', 6: 'Everton', 7: 'West Ham', 8: 'Arsenal', 9: 'Wigan', 10: 'Newcastle', 11: 'Fulham', 12: 'Stoke', 1666: 'Huddersfield', 14: 'Tottenham', 15: 'Norwich', 16: 'Reading', 17: 'Aston Villa', 18: 'Liverpool', 19: 'QPR', 20: 'Southampton', 157: 'Leeds', 1501: 'Barnsley', 436: 'Millwall', 1718: 'Sheff Utd', 1673: 'Nottm Forest', 2015: 'Brentford', 1855: 'Preston', 2379: 'Luton', 1485: 'Crystal Palace', 1486: 'Birmingham', 1488: 'Cardiff', 1489: 'Hull', 1490: 'Leicester', 1491: 'Sheff Wed', 1498: 'Watford', 1499: 'Brighton', 1500: 'Derby', 1629: 'Burnley', 1503: 'Middlesbrough', 1504: 'Bristol City', 1642: 'Blackburn', 1682: 'Bournemouth', 1903: 'Wolverhampton', 1657: 'Charlton'}\n"
     ]
    }
   ],
   "source": [
    "# read teams from csv\n",
    "teams_dict = {}\n",
    "\n",
    "with open('1920_team_id.csv') as csvfile:\n",
    "    teams = csv.DictReader(csvfile)\n",
    "    for team in teams:\n",
    "        if int(team['tournament_id']) in [ 1, 150 ]:\n",
    "           teams_dict[int(team['team_id'])] = team['name']\n",
    "\n",
    "print(teams_dict)"
   ]
  },
  {
   "cell_type": "code",
   "execution_count": 126,
   "metadata": {},
   "outputs": [
    {
     "name": "stdout",
     "output_type": "stream",
     "text": [
      "1892\n"
     ]
    }
   ],
   "source": [
    "# get all matches combination in terms of teams_id tuple, (home_team_id, away_team_id)\n",
    "matches_permutations = list(itertools.permutations(list(teams_dict.keys()), 2))\n",
    "\n",
    "print(len(matches_permutations))"
   ]
  },
  {
   "cell_type": "code",
   "execution_count": 131,
   "metadata": {},
   "outputs": [],
   "source": [
    "with requests.Session() as s:\n",
    "    url = \"https://corner-stats.com/index.php?route=module/getmatches/getTeamsAjax&event_type=corners\"\n",
    "    \n",
    "    headers = {\n",
    "        \"Accept\": \"application/json, text/javascript, */*; q=0.01\",\n",
    "        \"Accept-Encoding\": \"gzip, deflate, br\",\n",
    "        \"Accept-Language\": \"zh-TW,zh;q=0.9,en-US;q=0.8,en;q=0.7\",\n",
    "        \"Connection\": \"keep-alive\",\n",
    "        \"Content-Type\": \"application/x-www-form-urlencoded; charset=UTF-8\",\n",
    "        \"Cookie\": \"mysessionname=0971v8l2pp0c7opo7ffjq223k1; _ga=GA1.2.571054001.1565702820; __zlcmid=tliSVTIv8Nthfj; language=en; free_access=2; token=327482f52f26b36632b312d347856527; currency=EUR; _gid=GA1.2.1442214568.1579788653; _gat=1\",\n",
    "        \"Host\": \"corner-stats.com\",\n",
    "        \"Origin\": \"https://corner-stats.com\",\n",
    "        \"Referer\": \"https://corner-stats.com/liverpool-brighton-30-11-2019/premier-league-england/match/283318\",\n",
    "        \"Sec-Fetch-Mode\": \"cors\",\n",
    "        \"Sec-Fetch-Site\": \"same-origin\",\n",
    "        \"X-Requested-With\": \"XMLHttpRequest\",\n",
    "        \"User-Agent\": \"Mozilla/5.0 (X11; Linux x86_64) AppleWebKit/537.36 (KHTML, like Gecko) Chrome/76.0.3809.132 Safari/537.36\",\n",
    "    }\n"
   ]
  },
  {
   "cell_type": "code",
   "execution_count": 154,
   "metadata": {},
   "outputs": [
    {
     "name": "stdout",
     "output_type": "stream",
     "text": [
      "9.0\n",
      "9.0\n"
     ]
    }
   ],
   "source": [
    "    for (home_team_id, away_team_id) in matches_permutations: \n",
    "        \n",
    "        if ((home_team_id, away_team_id) != (1, 18)) and ((home_team_id, away_team_id) != (18, 1)):\n",
    "            continue\n",
    "        \n",
    "        parameter = 'a:4:{s:8:\"table_id\";s:22:\"table_corners_personal\";s:11:\"filter_team\";s:' + str(len(str(home_team_id))) + ':\"' + str(home_team_id) + '\";s:15:\"filter_opponent\";s:' + str(len(str(away_team_id))) + ':\"' + str(away_team_id) + '\";s:10:\"is_filters\";i:1;}'\n",
    "\n",
    "        data = {\n",
    "        'tour[]': 1,\n",
    "        'seasons[]': [17, 20, 21, 40],\n",
    "        'm_type[]': [1, 2],\n",
    "        'show': 'all',\n",
    "        'team_id': home_team_id,\n",
    "        'parameter': parameter,\n",
    "        'event_type': 'filter',\n",
    "        'event_value': 0\n",
    "        }\n",
    "\n",
    "        req = s.post(url, headers=headers, data=data)\n",
    "        \n",
    "        matches = req.json()\n",
    "        \n",
    "#         get average_corners\n",
    "        if len(matches) <= 6:\n",
    "            average_corners = matches['statistics']['corners']['sum_all']\n",
    "        else:\n",
    "            latest_match_list = [ '0', '1', '2', '3', '4', '5' ]\n",
    "            \n",
    "            average_corners = sum(list(map(lambda x_latest_match: int(matches[x_latest_match]['corner_count']), latest_match_list))) / len(latest_match_list)\n",
    "\n",
    "        print(average_corners)"
   ]
  },
  {
   "cell_type": "code",
   "execution_count": 135,
   "metadata": {
    "scrolled": true
   },
   "outputs": [
    {
     "name": "stdout",
     "output_type": "stream",
     "text": [
      "{'0': {'fora1': '0.25', 'team_2_goals_quantity': '2', 'team_2_goals_1_half': '2', 'team_2_href': '/liverpool/england/team/18', 'referee_href': '/michael-oliver/england/referee/18', 'team_1_goals_quantity': '1', 'team_name1': 'Chelsea', 'total_next_page': 1, 'round_name': '6', 'other_t2': '', 'tournament_name': 'PremL', 'odds_2': '2.26', 'odds_x': '3.64', 'team_1_yellow_cards': '3', 'team_2_red_cards': '0', 'date_start': '22/09/19', 'first_goal': 1, 'team_2_corners_quantity': '4', 'odds_1': '3.25', 'date_start_timestamp': 1569166200000, 'team_1_id': '1', 'other_t1': '', 'penalty': '0', 'team_2_tournament_row': 'Premier League, England', 'ft': '#FFAA94', 'team_1_goals_1_half': '0', 'int_seconds': -1, 'game_id_2': '18', 'game_href': '/chelsea-liverpool-22-09-2019/premier-league-england/match/271037', 'corner_count': '10', 'team_1_tournament_row': 'Premier League, England', 'team_1_red_cards': '0', 'team_2_yellow_cards': '3', 'game_id': '271037', 'tournament_href': 'index.php?route=football/tournament&amp;tournament_id=1', 'referee_name': 'M. Oliver', 'team': '2', 'tournament_href1': '/premier-league/england/tournament/1', 'team_1_corners_quantity': '6', 'team_name2': 'Liverpool', 'team_1_href': '/chelsea/england/team/1'}, 'statistics': {'goals': {'sum_all': 3, 'points': 3, 'difference': '2 - 1', 'draw': 0, 'lost': 0, 'count': 1, 'win': 1, 'total': 3, 'diff_avg': '+1', 'sum_1': 2, 'sum_2': 1}, 'other': {'sum_all': 0, 'points': 0, 'difference': '0 - 0', 'draw': 0, 'lost': 0, 'count': 1, 'win': 0, 'total': 0, 'diff_avg': 0, 'sum_1': 0, 'sum_2': 0}, 't_1_2': '6.00', 'yellow': {'sum_2': 3, 'difference': '3 - 3', 'count': 1, 'sum_all': 6, 'total': 6, 'diff_avg': 0, 'sum_1': 3}, 'corners': {'sum_all': 10, 'points': 0, 'difference': '4 - 6', 'draw': 0, 'lost': 1, 'count': 1, 'win': 0, 'total': 10, 'diff_avg': -2, 'sum_1': 4, 'sum_2': 6}, 't_2_5': '12.00', 'red': {'sum_2': 0, 'difference': '0 - 0', 'count': 1, 'sum_all': 0, 'total': 0, 'diff_avg': 0, 'sum_1': 0}, 't_10_25': '60.00', 'handicap': {'points': 0, 'hand_av': 0, 'draw': 0, 'lost': 0, 'count': 0, 'win': 0, 'diff_av': 0, 'diff': '0 - 0'}}}\n"
     ]
    }
   ],
   "source": [
    "    matches = req.json()\n",
    "    \n",
    "    print(len(matches))"
   ]
  },
  {
   "cell_type": "code",
   "execution_count": 108,
   "metadata": {},
   "outputs": [
    {
     "name": "stdout",
     "output_type": "stream",
     "text": [
      "{\n",
      "    \"0\": {\n",
      "        \"corner_count\": \"10\",\n",
      "        \"date_start\": \"22/09/19\",\n",
      "        \"date_start_timestamp\": 1569166200000,\n",
      "        \"first_goal\": 1,\n",
      "        \"fora1\": \"0.25\",\n",
      "        \"ft\": \"#FFAA94\",\n",
      "        \"game_href\": \"/chelsea-liverpool-22-09-2019/premier-league-england/match/271037\",\n",
      "        \"game_id\": \"271037\",\n",
      "        \"game_id_2\": \"18\",\n",
      "        \"int_seconds\": -1,\n",
      "        \"odds_1\": \"3.25\",\n",
      "        \"odds_2\": \"2.26\",\n",
      "        \"odds_x\": \"3.64\",\n",
      "        \"other_t1\": \"\",\n",
      "        \"other_t2\": \"\",\n",
      "        \"penalty\": \"0\",\n",
      "        \"referee_href\": \"/michael-oliver/england/referee/18\",\n",
      "        \"referee_name\": \"M. Oliver\",\n",
      "        \"round_name\": \"6\",\n",
      "        \"team\": \"2\",\n",
      "        \"team_1_corners_quantity\": \"6\",\n",
      "        \"team_1_goals_1_half\": \"0\",\n",
      "        \"team_1_goals_quantity\": \"1\",\n",
      "        \"team_1_href\": \"/chelsea/england/team/1\",\n",
      "        \"team_1_id\": \"1\",\n",
      "        \"team_1_red_cards\": \"0\",\n",
      "        \"team_1_tournament_row\": \"Premier League, England\",\n",
      "        \"team_1_yellow_cards\": \"3\",\n",
      "        \"team_2_corners_quantity\": \"4\",\n",
      "        \"team_2_goals_1_half\": \"2\",\n",
      "        \"team_2_goals_quantity\": \"2\",\n",
      "        \"team_2_href\": \"/liverpool/england/team/18\",\n",
      "        \"team_2_red_cards\": \"0\",\n",
      "        \"team_2_tournament_row\": \"Premier League, England\",\n",
      "        \"team_2_yellow_cards\": \"3\",\n",
      "        \"team_name1\": \"Chelsea\",\n",
      "        \"team_name2\": \"Liverpool\",\n",
      "        \"total_next_page\": 1,\n",
      "        \"tournament_href\": \"index.php?route=football/tournament&amp;tournament_id=1\",\n",
      "        \"tournament_href1\": \"/premier-league/england/tournament/1\",\n",
      "        \"tournament_name\": \"PremL\"\n",
      "    },\n",
      "    \"statistics\": {\n",
      "        \"corners\": {\n",
      "            \"count\": 1,\n",
      "            \"diff_avg\": -2,\n",
      "            \"difference\": \"4 - 6\",\n",
      "            \"draw\": 0,\n",
      "            \"lost\": 1,\n",
      "            \"points\": 0,\n",
      "            \"sum_1\": 4,\n",
      "            \"sum_2\": 6,\n",
      "            \"sum_all\": 10,\n",
      "            \"total\": 10,\n",
      "            \"win\": 0\n",
      "        },\n",
      "        \"goals\": {\n",
      "            \"count\": 1,\n",
      "            \"diff_avg\": \"+1\",\n",
      "            \"difference\": \"2 - 1\",\n",
      "            \"draw\": 0,\n",
      "            \"lost\": 0,\n",
      "            \"points\": 3,\n",
      "            \"sum_1\": 2,\n",
      "            \"sum_2\": 1,\n",
      "            \"sum_all\": 3,\n",
      "            \"total\": 3,\n",
      "            \"win\": 1\n",
      "        },\n",
      "        \"handicap\": {\n",
      "            \"count\": 0,\n",
      "            \"diff\": \"0 - 0\",\n",
      "            \"diff_av\": 0,\n",
      "            \"draw\": 0,\n",
      "            \"hand_av\": 0,\n",
      "            \"lost\": 0,\n",
      "            \"points\": 0,\n",
      "            \"win\": 0\n",
      "        },\n",
      "        \"other\": {\n",
      "            \"count\": 1,\n",
      "            \"diff_avg\": 0,\n",
      "            \"difference\": \"0 - 0\",\n",
      "            \"draw\": 0,\n",
      "            \"lost\": 0,\n",
      "            \"points\": 0,\n",
      "            \"sum_1\": 0,\n",
      "            \"sum_2\": 0,\n",
      "            \"sum_all\": 0,\n",
      "            \"total\": 0,\n",
      "            \"win\": 0\n",
      "        },\n",
      "        \"red\": {\n",
      "            \"count\": 1,\n",
      "            \"diff_avg\": 0,\n",
      "            \"difference\": \"0 - 0\",\n",
      "            \"sum_1\": 0,\n",
      "            \"sum_2\": 0,\n",
      "            \"sum_all\": 0,\n",
      "            \"total\": 0\n",
      "        },\n",
      "        \"t_10_25\": \"60.00\",\n",
      "        \"t_1_2\": \"6.00\",\n",
      "        \"t_2_5\": \"12.00\",\n",
      "        \"yellow\": {\n",
      "            \"count\": 1,\n",
      "            \"diff_avg\": 0,\n",
      "            \"difference\": \"3 - 3\",\n",
      "            \"sum_1\": 3,\n",
      "            \"sum_2\": 3,\n",
      "            \"sum_all\": 6,\n",
      "            \"total\": 6\n",
      "        }\n",
      "    }\n",
      "}\n"
     ]
    }
   ],
   "source": [
    "    # Load the JSON to a Python list & dump it back out as formatted JSON\n",
    "    format_matches = json.dumps(matches, indent=4, sort_keys=True)\n",
    "    print(format_matches)"
   ]
  }
 ],
 "metadata": {
  "kernelspec": {
   "display_name": "Python 3",
   "language": "python",
   "name": "python3"
  },
  "language_info": {
   "codemirror_mode": {
    "name": "ipython",
    "version": 3
   },
   "file_extension": ".py",
   "mimetype": "text/x-python",
   "name": "python",
   "nbconvert_exporter": "python",
   "pygments_lexer": "ipython3",
   "version": "3.5.2"
  }
 },
 "nbformat": 4,
 "nbformat_minor": 2
}
